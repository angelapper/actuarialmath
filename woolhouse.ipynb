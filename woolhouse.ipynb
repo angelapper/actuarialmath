{
 "cells": [
  {
   "cell_type": "markdown",
   "metadata": {},
   "source": [
    "# Woolhouse M'thly\n",
    "\n",
    "## Annuities\n",
    "\n",
    "__Whole life annuity__:\n",
    "\n",
    "$\\ddot{a}^{(m)}_{x} = \\ddot{a}_{x} - \\dfrac{m-1}{2m} - \\dfrac{m^2 - 1}{12m^2}(\\mu_x + \\delta)$\n",
    "\n",
    "__Temporary annuity__:\n",
    "\n",
    "$ \\ddot{a}^{(m)}_{x:\\overline{t|}} = \\ddot{a}^{(m)}_{x} - ~_tE_x ~ \\ddot{a}^{(m)}_{x+t}$\n",
    "\n",
    "- Approximate $\\mu_x \\approx -\\dfrac{1}{2}(\\ln p_{x-1} + \\ln p_x)$\n",
    "\n"
   ]
  },
  {
   "cell_type": "markdown",
   "metadata": {},
   "source": [
    "## Examples"
   ]
  },
  {
   "cell_type": "code",
   "execution_count": 1,
   "metadata": {},
   "outputs": [
    {
     "name": "stdout",
     "output_type": "stream",
     "text": [
      "SOA Question 7.7:  (D) 1110\n",
      "12.141666666666666\n",
      "5260.0\n",
      "5260.0 -4152.028174603174 1107.9718253968258\n",
      "\n",
      "SOA Question 6.25:  (C) 12330\n",
      "98042.52569470297 8.019169307712845\n",
      "12325.781125438532\n",
      "\n",
      "SOA Question 6.15:  (B) 1.002\n",
      "1.0022973504113772\n",
      "\n",
      "SOA Question 5.7:  (C) 17376.7\n",
      "[ Pure Endowment: 30_E_35 ]\n",
      "    pure endowment 30_E_35 = 30_p_35 * v^30\n",
      "17.37671459632958\n",
      "[ Pure Endowment: 30_E_35 ]\n",
      "    pure endowment 30_E_35 = 30_p_35 * v^30\n",
      "17376.71459632958\n",
      "\n"
     ]
    }
   ],
   "source": [
    "from actuarialmath.woolhouse import Woolhouse\n",
    "from actuarialmath.sult import SULT\n",
    "from actuarialmath.recursion import Recursion\n",
    "from actuarialmath.udd import UDD\n",
    "from actuarialmath.policyvalues import Policy\n",
    "\n",
    "print(\"SOA Question 7.7:  (D) 1110\")\n",
    "x = 0\n",
    "life = Recursion(interest=dict(i=0.05)).set_A(0.4, x=x+10)\n",
    "a = Woolhouse(m=12, life=life).whole_life_annuity(x+10)\n",
    "print(a)\n",
    "policy = Policy(premium=0, benefit=10000, renewal_policy=100)\n",
    "V = life.gross_future_loss(A=0.4, policy=policy.policy_renewal)\n",
    "print(V)\n",
    "policy = Policy(premium=30*12, renewal_premium=0.05)\n",
    "V1 = life.gross_future_loss(a=a, policy=policy.policy_renewal)\n",
    "print(V, V1, V+V1)\n",
    "print()\n",
    "    \n",
    "\n",
    "print(\"SOA Question 6.25:  (C) 12330\")\n",
    "life = SULT()\n",
    "woolhouse = Woolhouse(m=12, life=life)\n",
    "benefits = woolhouse.deferred_annuity(55, u=10, b=1000 * 12)\n",
    "expenses = life.whole_life_annuity(55, b=300)\n",
    "payments = life.temporary_annuity(55, t=10)\n",
    "print(benefits + expenses, payments)\n",
    "def fun(P):\n",
    "    return life.gross_future_loss(A=benefits + expenses, a=payments,\n",
    "                                  policy=Policy(premium=P))\n",
    "P = life.solve(fun, target=-800, guess=[12110, 12550])\n",
    "print(P)\n",
    "print()\n",
    "     \n",
    "\n",
    "print(\"SOA Question 6.15:  (B) 1.002\")\n",
    "life = Recursion(interest=dict(i=0.05)).set_a(3.4611, x=0)\n",
    "A = life.insurance_twin(3.4611)\n",
    "udd = UDD(m=4, life=life)\n",
    "a1 = udd.whole_life_annuity(x=x)\n",
    "woolhouse = Woolhouse(m=4, life=life)\n",
    "a2 = woolhouse.whole_life_annuity(x=x)\n",
    "print(life.gross_premium(a=a1, A=A)/life.gross_premium(a=a2, A=A))\n",
    "print()\n",
    "    \n",
    "print(\"SOA Question 5.7:  (C) 17376.7\")\n",
    "life = Recursion(interest=dict(i=0.04))\n",
    "life.set_A(0.188, x=35)\n",
    "life.set_A(0.498, x=65)\n",
    "life.set_p(0.883, x=35, t=30)\n",
    "mthly = Woolhouse(m=2, life=life, three_term=False)\n",
    "print(mthly.temporary_annuity(35, t=30))\n",
    "print(1000 * mthly.temporary_annuity(35, t=30))\n",
    "print()\n"
   ]
  },
  {
   "cell_type": "markdown",
   "metadata": {},
   "source": [
    "## Documentation"
   ]
  },
  {
   "cell_type": "code",
   "execution_count": 2,
   "metadata": {},
   "outputs": [
    {
     "name": "stdout",
     "output_type": "stream",
     "text": [
      "class Woolhouse: 1/m'thly shortcuts with woolhouse approximation\n",
      "    - m (int) : number of payments per year\n",
      "    - life (Fractional) : original fractional survival and mortality functions\n",
      "    - three_term (bool) : whether to include (True) or ignore (False) third term\n",
      "    - approximate_mu (Callable | bool) : function to approximate mu_x for third term\n",
      "    \n",
      "Methods:\n",
      "\n",
      " - mu_x(...)  Approximates or computes mu_x for third term if not given\n",
      "        - x (int) : age of selection\n",
      "        - s (int) : years after selection\n",
      "        \n",
      " - whole_life_insurance(...)  1/m'thly Woolhouse Whole life insurance: A_x\n",
      "        - x (int) : age of selection\n",
      "        - s (int) : years after selection\n",
      "        - b (int) : amount of benefit\n",
      "        - mu (float): optional mu_x for third woolhouse term\n",
      "        \n",
      " - term_insurance(...)  1/m'thly Woolhouse Term insurance: A_x:t\n",
      "        - x (int) : age of selection\n",
      "        - s (int) : years after selection\n",
      "        - t (int) : term of insurance in years\n",
      "        - b (int) : amount of benefit\n",
      "        - mu (float): optional mu_x for third woolhouse term\n",
      "        - mu1 (float): optional mu_x+t for third woolhouse term\n",
      "        \n",
      " - endowment_insurance(...)  1/m'thly Woolhouse Term insurance: A_x:t\n",
      "        - x (int) : age of selection\n",
      "        - s (int) : years after selection\n",
      "        - t (int) : term of insurance in years\n",
      "        - b (int) : amount of benefit\n",
      "        - endowment (int) : amount of endowment benefit\n",
      "        - mu (float): optional mu_x for third woolhouse term\n",
      "        \n",
      " - deferred_insurance(...)  1/m'thly Woolhouse Deferred insurance = discounted term or whole life\n",
      "        - x (int) : age of selection\n",
      "        - s (int) : years after selection\n",
      "        - u (int) : years deferred\n",
      "        - t (int) : term of insurance in years\n",
      "        - b (int) : amount of benefit\n",
      "        - mu (float): optional mu_x for third woolhouse term\n",
      "        - mu1 (float): optional mu_x+t for third woolhouse term\n",
      "        \n",
      " - whole_life_annuity(...)  1/m'thly Woolhouse Whole life annuity: a_x\n",
      "        - x (int) : age of selection\n",
      "        - s (int) : years after selection\n",
      "        - b (int) : annuity benefit amount\n",
      "        - mu (float): optional mu_x for third woolhouse term\n",
      "        \n",
      " - temporary_annuity(...)  1/m'thly Woolhouse Temporary life annuity: a_x\n",
      "        - x (int) : age of selection\n",
      "        - s (int) : years after selection\n",
      "        - t (int) : term of annuity in years\n",
      "        - b (int) : annuity benefit amount\n",
      "        - mu (float): optional mu_x for third woolhouse term\n",
      "        - mu1 (float): optional mu_x+t for third woolhouse term\n",
      "        \n",
      " - deferred_annuity(...)  1/m'thly Woolhouse Temporary life annuity: a_x\n",
      "        - x (int) : age of selection\n",
      "        - s (int) : years after selection\n",
      "        - u (int) : years deferred\n",
      "        - t (int) : term of annuity in years\n",
      "        - b (int) : annuity benefit amount\n",
      "        - mu (float): optional mu_x for third woolhouse term\n",
      "        - mu1 (float): optional mu_x+t for third woolhouse term\n",
      "        \n"
     ]
    }
   ],
   "source": [
    "print(Woolhouse.help())"
   ]
  }
 ],
 "metadata": {
  "kernelspec": {
   "display_name": "Python 3.10.5 ('env3.10')",
   "language": "python",
   "name": "python3"
  },
  "language_info": {
   "codemirror_mode": {
    "name": "ipython",
    "version": 3
   },
   "file_extension": ".py",
   "mimetype": "text/x-python",
   "name": "python",
   "nbconvert_exporter": "python",
   "pygments_lexer": "ipython3",
   "version": "3.10.5"
  },
  "orig_nbformat": 4,
  "vscode": {
   "interpreter": {
    "hash": "a53bd658f9a5b7202fd97fcbe4e35965efc28d0eb9d85b0766bd67191bc6202c"
   }
  }
 },
 "nbformat": 4,
 "nbformat_minor": 2
}
