{
 "cells": [
  {
   "cell_type": "markdown",
   "metadata": {},
   "source": [
    "# Adjust Mortality\n",
    "\n",
    "\n",
    "## Extra mortality risk\n",
    "\n",
    "1. Add constant to force of mortality: $\\mu_{x+t} + k \\Rightarrow ~_tp_x \\to ~_tp_x ~ e^{-kt}$\n",
    "\n",
    "2. Multiply force of mortality by constant: $\\mu_{x+t} \\cdot k \\Rightarrow ~_tp_x \\to ~(_tp_x)^{k}$\n",
    "\n",
    "3. Mutiply mortality rate by a constant: $q_{x} \\to q_{x} \\cdot k$\n",
    "\n",
    "4. Age rating: add years to age $\\Rightarrow (x) \\to (x+k)$\n",
    "\n"
   ]
  },
  {
   "cell_type": "markdown",
   "metadata": {},
   "source": [
    "## Examples"
   ]
  },
  {
   "cell_type": "code",
   "execution_count": 1,
   "metadata": {},
   "outputs": [
    {
     "name": "stdout",
     "output_type": "stream",
     "text": [
      "SOA Question 5.5: (A) 1699.6\n",
      "1699.6076593190103\n",
      "\n",
      "SOA Question 4.19:  (B) 59050\n",
      "59050.59973285648\n",
      "\n",
      "Other usage examples\n",
      "0.9992288829941123 0.9504959153149807\n"
     ]
    }
   ],
   "source": [
    "from actuarialmath.selectlife import Select\n",
    "from actuarialmath.sult import SULT\n",
    "from actuarialmath.adjustmortality import Adjust\n",
    "\n",
    "print(\"SOA Question 5.5: (A) 1699.6\")\n",
    "life = SULT()\n",
    "adjust = Adjust(life=life)\n",
    "q = adjust(extra=0.05, adjust=Adjust.ADD_FORCE)['q']\n",
    "select = Select(n=1)\\\n",
    "            .set_select(column=0, select_age=True, q=q)\\\n",
    "            .set_select(column=1, select_age=False, a=life['a']).fill()\n",
    "print(100*select['a'][45][0])\n",
    "print()\n",
    "\n",
    "print(\"SOA Question 4.19:  (B) 59050\")\n",
    "life = SULT()\n",
    "adjust = Adjust(life=life)\n",
    "q = adjust(extra=0.8, adjust=Adjust.MULTIPLY_RATE)['q']\n",
    "select = Select(n=1)\\\n",
    "            .set_select(column=0, select_age=True, q=q)\\\n",
    "            .set_select(column=1, select_age=False, q=life['q']).fill()\n",
    "print(100000*select.whole_life_insurance(80, s=0))\n",
    "print()\n",
    "\n",
    "print(\"Other usage examples\")\n",
    "life = SULT()\n",
    "adjust = Adjust(life=life)(extra=0.05, adjust=Adjust.ADD_FORCE)\n",
    "print(life.p_x(45), adjust.p_x(45))\n",
    "\n"
   ]
  },
  {
   "cell_type": "markdown",
   "metadata": {},
   "source": [
    "## Documentation"
   ]
  },
  {
   "cell_type": "code",
   "execution_count": 2,
   "metadata": {},
   "outputs": [
    {
     "name": "stdout",
     "output_type": "stream",
     "text": [
      "class Adjust: adjusts mortality by extra risk\n",
      "    \n",
      "    - life (Survival) : original survival and mortality functions\n",
      "    \n",
      "Methods:\n",
      "\n",
      " - __getitem__(...)  Return adjusted survival or mortality values, as dict keyed by age\n",
      "        - col (str) : one of {'q', 'p'}\n",
      "        \n",
      " - __call__(...)  Specify type and amount of mortality adjustment to apply\n",
      "        - extra (float) : amount to adjust by\n",
      "        - adjust (int) : one of {ADD_FORCE, MULTIPLY_FORCE, ADD_AGE, MULTIPLY_RATE}\n",
      "        \n",
      " - q_x(...)  Return q_[x]+s after adding age rating or multipliying mortality rate\n",
      "        - x (int) : age of selection\n",
      "        - s (int) : years after selection\n",
      "        \n",
      " - p_x(...)  Return p_[x]+s after adding or multiplying force of mortality\n",
      "        - x (int) : age of selection\n",
      "        - s (int) : years after selection\n",
      "        \n"
     ]
    }
   ],
   "source": [
    "print(Adjust.help())"
   ]
  }
 ],
 "metadata": {
  "kernelspec": {
   "display_name": "Python 3.10.5 ('env3.10')",
   "language": "python",
   "name": "python3"
  },
  "language_info": {
   "codemirror_mode": {
    "name": "ipython",
    "version": 3
   },
   "file_extension": ".py",
   "mimetype": "text/x-python",
   "name": "python",
   "nbconvert_exporter": "python",
   "pygments_lexer": "ipython3",
   "version": "3.10.5"
  },
  "orig_nbformat": 4,
  "vscode": {
   "interpreter": {
    "hash": "a53bd658f9a5b7202fd97fcbe4e35965efc28d0eb9d85b0766bd67191bc6202c"
   }
  }
 },
 "nbformat": 4,
 "nbformat_minor": 2
}
