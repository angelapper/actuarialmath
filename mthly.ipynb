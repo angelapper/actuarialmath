{
 "cells": [
  {
   "cell_type": "markdown",
   "metadata": {},
   "source": [
    "# M'thly\n",
    "\n",
    "## 1/m'thly insurance\n",
    "\n",
    "$K^{(m)}_x = \\dfrac{1}{m} \\lfloor m T_x \\rfloor$\n",
    "\n",
    "$A^{(m)}_x = \\sum_{k=0}^{\\infty} ~ v^{\\frac{k+1}{m}} ~ _{\\frac{k}{m}|\\frac{1}{m}}q_x$\n",
    "\n",
    "$A^{(m)}_{x:\\overline{t|}} = \\sum_{k=0}^{mt-1} ~ v^{\\frac{k+1}{m}} ~ _{\\frac{k}{m}|\\frac{1}{m}}q_x $"
   ]
  },
  {
   "cell_type": "markdown",
   "metadata": {},
   "source": [
    "## Annuity twin\n",
    "\n",
    "$A^{(m)}_{x} = 1 - d^{(m)} ~ \\ddot{a}^{(m)}_{x} ~ \\Longleftrightarrow ~ \\ddot{a}^{(m)}_{x} = \\dfrac{1 - A^{(m)}_{x}}{d^{(m)}} $\n",
    "\n",
    "$A^{(m)}_{x:\\overline {t|}} = 1 - d^{(m)} ~ \\ddot{a}^{(m)}_{x:\\overline {t|}} ~ \\Longleftrightarrow ~ \\ddot{a}^{(m)}_{x:\\overline {t|}} = \\dfrac{1 - A^{(m)}_{x:\\overline {t|}}}{d^{(m)}} $\n"
   ]
  },
  {
   "cell_type": "markdown",
   "metadata": {},
   "source": [
    "## Immediate annuity\n",
    "\n",
    "$a^{(m)}_{x} = \\ddot{a}^{(m)}_{x} - \\dfrac{1}{m}$\n",
    "\n",
    "$a^{(m)}_{x:\\overline {t|}} = \\ddot{a}^{(m)}_{x:\\overline {t|}} - \\dfrac{1}{m}(1 - ~_tE_x)$"
   ]
  },
  {
   "cell_type": "markdown",
   "metadata": {},
   "source": [
    "## Examples"
   ]
  },
  {
   "cell_type": "code",
   "execution_count": 1,
   "metadata": {},
   "outputs": [
    {
     "name": "stdout",
     "output_type": "stream",
     "text": [
      "SOA Question 6.4:  (E) 1893.9\n",
      "1893.912859650868\n",
      "\n",
      "SOA Question 4.2:  (D) 0.18\n",
      "               Z         p\n",
      "m                         \n",
      "1  275229.357798  0.083485\n",
      "2  277754.397778  0.076515\n",
      "3  277986.052822  0.102903\n",
      "4  276285.832315  0.090297\n",
      "0.17941813045022975\n",
      "\n"
     ]
    }
   ],
   "source": [
    "from actuarialmath.mthly import Mthly\n",
    "from actuarialmath.premiums import Premiums\n",
    "from actuarialmath.lifetable import LifeTable\n",
    "\n",
    "print(\"SOA Question 6.4:  (E) 1893.9\")\n",
    "mthly = Mthly(m=12, life=Premiums(interest=dict(i=0.06)))\n",
    "A1, A2 = 0.4075, 0.2105\n",
    "mean = mthly.annuity_twin(A1)*15*12\n",
    "var = mthly.annuity_variance(A1=A1, A2=A2, b=15 * 12)\n",
    "S = Premiums.portfolio_percentile(mean=mean, variance=var, prob=.9, N=200)\n",
    "print(S / 200)\n",
    "print()\n",
    "\n",
    "print(\"SOA Question 4.2:  (D) 0.18\")\n",
    "life = LifeTable(q={0: .16, 1: .23}, interest=dict(i_m=.18, m=2),\n",
    "                    udd=False).fill()\n",
    "mthly = Mthly(m=2, life=life)\n",
    "Z = mthly.Z_m(0, t=2, benefit=lambda x,t: 300000 + t*30000*2)\n",
    "print(Z)\n",
    "print(Z[Z['Z'] >= 277000].iloc[:, -1].sum())\n",
    "print()"
   ]
  },
  {
   "cell_type": "markdown",
   "metadata": {},
   "source": [
    "## Documentation"
   ]
  },
  {
   "cell_type": "code",
   "execution_count": 2,
   "metadata": {},
   "outputs": [
    {
     "name": "stdout",
     "output_type": "stream",
     "text": [
      "class 1/M'thly insurance and annuities\n",
      "\n",
      "    - m (int) : number of payments per year\n",
      "    - life (Premiums) : original survival and life contingent functions\n",
      "    \n",
      "Methods:\n",
      "\n",
      " - v_m(...)  Compute discount rate compounded over k m'thly periods\n",
      "        - k (int) : number of m'thly periods to compound\n",
      "        \n",
      " - p_m(...)  Compute survival probability over m'thly periods\n",
      "        - x (int) : year of selection\n",
      "        - s_m (int) : number of m'thly periods after selection\n",
      "        - t_m (int) : survives number of m'thly periods\n",
      "        \n",
      " - q_m(...)  Compute deferred mortality over m'thly periods\n",
      "        - x (int) : year of selection\n",
      "        - s_m (int) : number of m'thly periods after selection\n",
      "        - u_m (int) : survive number of m'thly periods , then\n",
      "        - t_m (int) : dies within number of m'thly periods\n",
      "        \n",
      " - Z_m(...)  Return PV of insurance r.v. Z and probability by time as DataFrame\n",
      "        - x (int) : year of selection\n",
      "        - s (int) : years after selection\n",
      "        - t (int) : year of death\n",
      "        - benefit (Callable) : amount of benefit by year and age selected\n",
      "        - moment (int) : return first or second moment\n",
      "        \n"
     ]
    }
   ],
   "source": [
    "print(Mthly.help())"
   ]
  }
 ],
 "metadata": {
  "kernelspec": {
   "display_name": "Python 3.10.5 ('env3.10')",
   "language": "python",
   "name": "python3"
  },
  "language_info": {
   "codemirror_mode": {
    "name": "ipython",
    "version": 3
   },
   "file_extension": ".py",
   "mimetype": "text/x-python",
   "name": "python",
   "nbconvert_exporter": "python",
   "pygments_lexer": "ipython3",
   "version": "3.10.5"
  },
  "orig_nbformat": 4,
  "vscode": {
   "interpreter": {
    "hash": "a53bd658f9a5b7202fd97fcbe4e35965efc28d0eb9d85b0766bd67191bc6202c"
   }
  }
 },
 "nbformat": 4,
 "nbformat_minor": 2
}
